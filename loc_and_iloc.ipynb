{
 "cells": [
  {
   "cell_type": "code",
   "execution_count": 6,
   "id": "fd61f447",
   "metadata": {},
   "outputs": [
    {
     "data": {
      "text/html": [
       "<div>\n",
       "<style scoped>\n",
       "    .dataframe tbody tr th:only-of-type {\n",
       "        vertical-align: middle;\n",
       "    }\n",
       "\n",
       "    .dataframe tbody tr th {\n",
       "        vertical-align: top;\n",
       "    }\n",
       "\n",
       "    .dataframe thead th {\n",
       "        text-align: right;\n",
       "    }\n",
       "</style>\n",
       "<table border=\"1\" class=\"dataframe\">\n",
       "  <thead>\n",
       "    <tr style=\"text-align: right;\">\n",
       "      <th></th>\n",
       "      <th>city</th>\n",
       "      <th>name</th>\n",
       "      <th>section</th>\n",
       "      <th>age</th>\n",
       "    </tr>\n",
       "  </thead>\n",
       "  <tbody>\n",
       "    <tr>\n",
       "      <th>0</th>\n",
       "      <td>Jaipur</td>\n",
       "      <td>Nikita</td>\n",
       "      <td>A</td>\n",
       "      <td>29</td>\n",
       "    </tr>\n",
       "    <tr>\n",
       "      <th>1</th>\n",
       "      <td>pondicherry</td>\n",
       "      <td>Riya</td>\n",
       "      <td>B</td>\n",
       "      <td>22</td>\n",
       "    </tr>\n",
       "    <tr>\n",
       "      <th>2</th>\n",
       "      <td>bangalore</td>\n",
       "      <td>Nitisha</td>\n",
       "      <td>C</td>\n",
       "      <td>32</td>\n",
       "    </tr>\n",
       "    <tr>\n",
       "      <th>3</th>\n",
       "      <td>Jabalpur</td>\n",
       "      <td>Ashi</td>\n",
       "      <td>D</td>\n",
       "      <td>24</td>\n",
       "    </tr>\n",
       "  </tbody>\n",
       "</table>\n",
       "</div>"
      ],
      "text/plain": [
       "          city     name section  age\n",
       "0       Jaipur   Nikita       A   29\n",
       "1  pondicherry     Riya       B   22\n",
       "2    bangalore  Nitisha       C   32\n",
       "3     Jabalpur     Ashi       D   24"
      ]
     },
     "execution_count": 6,
     "metadata": {},
     "output_type": "execute_result"
    }
   ],
   "source": [
    "# It is used to do data selection task on pandas dataframe\n",
    "import pandas as pd\n",
    "import numpy as np\n",
    "\n",
    "data = pd.DataFrame({\n",
    "    'city' : ['Jaipur' , 'pondicherry' ,'bangalore' , 'Jabalpur'],\n",
    "    'name' : ['Nikita' , 'Riya' , 'Nitisha' , 'Ashi'],\n",
    "    'section' : ['A' , 'B' , 'C' , 'D'],\n",
    "    'age' : [29 , 22 , 32 , 24] \n",
    "})\n",
    "data\n"
   ]
  },
  {
   "cell_type": "code",
   "execution_count": 7,
   "id": "c7812181",
   "metadata": {},
   "outputs": [
    {
     "name": "stdout",
     "output_type": "stream",
     "text": [
      "        city     name section  age\n",
      "0     Jaipur   Nikita       A   29\n",
      "2  bangalore  Nitisha       C   32\n"
     ]
    }
   ],
   "source": [
    "print(data.loc[data.age >= 25])"
   ]
  },
  {
   "cell_type": "code",
   "execution_count": 12,
   "id": "4c559b83",
   "metadata": {},
   "outputs": [
    {
     "name": "stdout",
     "output_type": "stream",
     "text": [
      "        city     name section  age\n",
      "2  bangalore  Nitisha       C   32\n"
     ]
    }
   ],
   "source": [
    "print(data.loc[(data.age >=25) & (data.city == 'bangalore')])"
   ]
  },
  {
   "cell_type": "code",
   "execution_count": 13,
   "id": "8cf5883d",
   "metadata": {},
   "outputs": [],
   "source": [
    "data.at[2 , 'city'] = 'Bangalore'"
   ]
  },
  {
   "cell_type": "code",
   "execution_count": 14,
   "id": "9722a196",
   "metadata": {},
   "outputs": [
    {
     "data": {
      "text/html": [
       "<div>\n",
       "<style scoped>\n",
       "    .dataframe tbody tr th:only-of-type {\n",
       "        vertical-align: middle;\n",
       "    }\n",
       "\n",
       "    .dataframe tbody tr th {\n",
       "        vertical-align: top;\n",
       "    }\n",
       "\n",
       "    .dataframe thead th {\n",
       "        text-align: right;\n",
       "    }\n",
       "</style>\n",
       "<table border=\"1\" class=\"dataframe\">\n",
       "  <thead>\n",
       "    <tr style=\"text-align: right;\">\n",
       "      <th></th>\n",
       "      <th>city</th>\n",
       "      <th>name</th>\n",
       "      <th>section</th>\n",
       "      <th>age</th>\n",
       "    </tr>\n",
       "  </thead>\n",
       "  <tbody>\n",
       "    <tr>\n",
       "      <th>0</th>\n",
       "      <td>Jaipur</td>\n",
       "      <td>Nikita</td>\n",
       "      <td>A</td>\n",
       "      <td>29</td>\n",
       "    </tr>\n",
       "    <tr>\n",
       "      <th>1</th>\n",
       "      <td>pondicherry</td>\n",
       "      <td>Riya</td>\n",
       "      <td>B</td>\n",
       "      <td>22</td>\n",
       "    </tr>\n",
       "    <tr>\n",
       "      <th>2</th>\n",
       "      <td>Bangalore</td>\n",
       "      <td>Nitisha</td>\n",
       "      <td>C</td>\n",
       "      <td>32</td>\n",
       "    </tr>\n",
       "    <tr>\n",
       "      <th>3</th>\n",
       "      <td>Jabalpur</td>\n",
       "      <td>Ashi</td>\n",
       "      <td>D</td>\n",
       "      <td>24</td>\n",
       "    </tr>\n",
       "  </tbody>\n",
       "</table>\n",
       "</div>"
      ],
      "text/plain": [
       "          city     name section  age\n",
       "0       Jaipur   Nikita       A   29\n",
       "1  pondicherry     Riya       B   22\n",
       "2    Bangalore  Nitisha       C   32\n",
       "3     Jabalpur     Ashi       D   24"
      ]
     },
     "execution_count": 14,
     "metadata": {},
     "output_type": "execute_result"
    }
   ],
   "source": [
    "data"
   ]
  },
  {
   "cell_type": "code",
   "execution_count": 15,
   "id": "db574283",
   "metadata": {},
   "outputs": [],
   "source": [
    "data.at[1 , 'city'] = 'Puducherry'"
   ]
  },
  {
   "cell_type": "code",
   "execution_count": 16,
   "id": "717013e3",
   "metadata": {},
   "outputs": [
    {
     "data": {
      "text/html": [
       "<div>\n",
       "<style scoped>\n",
       "    .dataframe tbody tr th:only-of-type {\n",
       "        vertical-align: middle;\n",
       "    }\n",
       "\n",
       "    .dataframe tbody tr th {\n",
       "        vertical-align: top;\n",
       "    }\n",
       "\n",
       "    .dataframe thead th {\n",
       "        text-align: right;\n",
       "    }\n",
       "</style>\n",
       "<table border=\"1\" class=\"dataframe\">\n",
       "  <thead>\n",
       "    <tr style=\"text-align: right;\">\n",
       "      <th></th>\n",
       "      <th>city</th>\n",
       "      <th>name</th>\n",
       "      <th>section</th>\n",
       "      <th>age</th>\n",
       "    </tr>\n",
       "  </thead>\n",
       "  <tbody>\n",
       "    <tr>\n",
       "      <th>0</th>\n",
       "      <td>Jaipur</td>\n",
       "      <td>Nikita</td>\n",
       "      <td>A</td>\n",
       "      <td>29</td>\n",
       "    </tr>\n",
       "    <tr>\n",
       "      <th>1</th>\n",
       "      <td>Puducherry</td>\n",
       "      <td>Riya</td>\n",
       "      <td>B</td>\n",
       "      <td>22</td>\n",
       "    </tr>\n",
       "    <tr>\n",
       "      <th>2</th>\n",
       "      <td>Bangalore</td>\n",
       "      <td>Nitisha</td>\n",
       "      <td>C</td>\n",
       "      <td>32</td>\n",
       "    </tr>\n",
       "    <tr>\n",
       "      <th>3</th>\n",
       "      <td>Jabalpur</td>\n",
       "      <td>Ashi</td>\n",
       "      <td>D</td>\n",
       "      <td>24</td>\n",
       "    </tr>\n",
       "  </tbody>\n",
       "</table>\n",
       "</div>"
      ],
      "text/plain": [
       "         city     name section  age\n",
       "0      Jaipur   Nikita       A   29\n",
       "1  Puducherry     Riya       B   22\n",
       "2   Bangalore  Nitisha       C   32\n",
       "3    Jabalpur     Ashi       D   24"
      ]
     },
     "execution_count": 16,
     "metadata": {},
     "output_type": "execute_result"
    }
   ],
   "source": [
    "data"
   ]
  },
  {
   "cell_type": "code",
   "execution_count": 17,
   "id": "c1af02be",
   "metadata": {},
   "outputs": [
    {
     "name": "stdout",
     "output_type": "stream",
     "text": [
      "         city     name section  age\n",
      "1  Puducherry     Riya       B   22\n",
      "2   Bangalore  Nitisha       C   32\n"
     ]
    }
   ],
   "source": [
    "print(data.loc[1:2])"
   ]
  },
  {
   "cell_type": "code",
   "execution_count": 18,
   "id": "48d00d3e",
   "metadata": {},
   "outputs": [
    {
     "name": "stdout",
     "output_type": "stream",
     "text": [
      "        city     name section  age\n",
      "0     Jaipur   Nikita       A   29\n",
      "2  Bangalore  Nitisha       C   32\n"
     ]
    }
   ],
   "source": [
    "# using iloc\n",
    "print(data.iloc[[0 , 2]])"
   ]
  },
  {
   "cell_type": "code",
   "execution_count": 22,
   "id": "13ebe7d4",
   "metadata": {},
   "outputs": [
    {
     "name": "stdout",
     "output_type": "stream",
     "text": [
      "       city    name\n",
      "0    Jaipur  Nikita\n",
      "3  Jabalpur    Ashi\n"
     ]
    }
   ],
   "source": [
    "print(data.iloc[[0 , 3] , [0 , 1]])"
   ]
  },
  {
   "cell_type": "code",
   "execution_count": null,
   "id": "b0f17a38",
   "metadata": {},
   "outputs": [],
   "source": []
  }
 ],
 "metadata": {
  "kernelspec": {
   "display_name": "Python 3 (ipykernel)",
   "language": "python",
   "name": "python3"
  },
  "language_info": {
   "codemirror_mode": {
    "name": "ipython",
    "version": 3
   },
   "file_extension": ".py",
   "mimetype": "text/x-python",
   "name": "python",
   "nbconvert_exporter": "python",
   "pygments_lexer": "ipython3",
   "version": "3.11.3"
  }
 },
 "nbformat": 4,
 "nbformat_minor": 5
}
